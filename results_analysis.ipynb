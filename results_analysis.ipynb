{
 "cells": [
  {
   "cell_type": "code",
   "execution_count": 1,
   "metadata": {},
   "outputs": [],
   "source": [
    "import torchvision\n",
    "import torch\n",
    "import torch.utils.data as utils\n",
    "import torch.nn as nn\n",
    "import torch.nn.functional as F\n",
    "import torch.optim as optim\n",
    "import numpy as np\n",
    "import torchvision.transforms as transforms\n",
    "from torch.utils.data import Dataset\n",
    "import tqdm\n",
    "from torch.autograd import Variable\n",
    "import argparse\n",
    "import os\n",
    "import gc\n",
    "import matplotlib.pyplot as plt\n",
    "from copy import deepcopy\n",
    "from PIL import Image\n",
    "data_path = '/home/hattie/scratch/datasets/'\n",
    "\n",
    "from models import ConvBlock, Flatten, LeNet, MnistConvNet, RandomGame, RandomGamePos, WideResNet"
   ]
  },
  {
   "cell_type": "code",
   "execution_count": 2,
   "metadata": {},
   "outputs": [],
   "source": [
    "class CIFAR10CDataset(Dataset):\n",
    "    \n",
    "    \"\"\"CIFAR10-C dataset.\"\"\"\n",
    "\n",
    "    def __init__(self, root, corruption, severity, transform=None, target_transform=None):\n",
    "        \"\"\"\n",
    "        Args:\n",
    "            root_dir (string): Directory with all the images.\n",
    "            transform (callable, optional): Optional transform to be applied\n",
    "                on a sample.\n",
    "        \"\"\"\n",
    "        self.data = np.load(os.path.join(root, corruption, 'severity' + str(severity), 'images.npy'))\n",
    "        self.targets = torch.tensor(np.load(os.path.join(root, corruption, 'severity' + str(severity), 'labels.npy')))\n",
    "            \n",
    "        self.root = root\n",
    "        self.corruption = corruption\n",
    "        self.severity = severity\n",
    "        self.transform = transform\n",
    "        self.target_transform = target_transform\n",
    "\n",
    "    def __len__(self):\n",
    "        return len(self.targets)\n",
    "    \n",
    "\n",
    "    def __getitem__(self, index):\n",
    "        \"\"\"\n",
    "        Args:\n",
    "            index (int): Index\n",
    "\n",
    "        Returns:\n",
    "            tuple: (image, target) where target is index of the target class.\n",
    "        \"\"\"\n",
    "        img, target = self.data[index], int(self.targets[index])\n",
    "\n",
    "        # doing this so that it is consistent with all other datasets\n",
    "        # to return a PIL Image\n",
    "        img = Image.fromarray(img)\n",
    "\n",
    "        if self.transform is not None:\n",
    "            img = self.transform(img)\n",
    "\n",
    "        if self.target_transform is not None:\n",
    "            target = self.target_transform(target)\n",
    "\n",
    "        return img, target\n"
   ]
  },
  {
   "cell_type": "code",
   "execution_count": 9,
   "metadata": {},
   "outputs": [],
   "source": [
    "trans = ([transforms.ToTensor()])\n",
    "trans = transforms.Compose(trans)\n",
    "# fulltrainset = torchvision.datasets.CIFAR10(root=data_path, train=True, download=True, transform=trans)\n",
    "# train_set, valset = torch.utils.data.random_split(fulltrainset, [45000, 5000])\n",
    "\n",
    "# trainloader = torch.utils.data.DataLoader(train_set, batch_size=128, shuffle=True, num_workers=4)\n",
    "# validloader = torch.utils.data.DataLoader(valset, batch_size=128, shuffle=False,\n",
    "#                                           num_workers=4, pin_memory=True)\n",
    "\n",
    "# test_set = torchvision.datasets.CIFAR10(root=data_path, train=False, download=True, transform=trans)\n",
    "# testloader = torch.utils.data.DataLoader(test_set, batch_size=128, shuffle=False, num_workers=4, pin_memory=True)\n",
    "# nb_classes = 10\n"
   ]
  },
  {
   "cell_type": "code",
   "execution_count": 4,
   "metadata": {},
   "outputs": [],
   "source": [
    "trainset = CIFAR10CDataset(root=data_path + 'CIFAR-10-C/processed_data/', corruption='brightness', severity=1, transform=trans)\n",
    "trainloader = torch.utils.data.DataLoader(trainset, batch_size=128, shuffle=True, num_workers=4)"
   ]
  },
  {
   "cell_type": "code",
   "execution_count": 16,
   "metadata": {},
   "outputs": [
    {
     "data": {
      "text/plain": [
       "(10000, 32, 32, 3)"
      ]
     },
     "execution_count": 16,
     "metadata": {},
     "output_type": "execute_result"
    }
   ],
   "source": [
    "trainloader.dataset.data.shape#reshape(-1, 3, 32, 32).shape"
   ]
  },
  {
   "cell_type": "code",
   "execution_count": 91,
   "metadata": {},
   "outputs": [
    {
     "data": {
      "text/plain": [
       "(50000, 32, 32, 3)"
      ]
     },
     "execution_count": 91,
     "metadata": {},
     "output_type": "execute_result"
    }
   ],
   "source": [
    "trainloader.dataset.dataset.data.shape"
   ]
  },
  {
   "cell_type": "code",
   "execution_count": 17,
   "metadata": {},
   "outputs": [],
   "source": [
    "testbatch = next(iter(trainloader))"
   ]
  },
  {
   "cell_type": "code",
   "execution_count": 22,
   "metadata": {},
   "outputs": [],
   "source": [
    "img=testbatch[0][5].numpy()"
   ]
  },
  {
   "cell_type": "code",
   "execution_count": 24,
   "metadata": {},
   "outputs": [],
   "source": [
    "img = np.dstack([img[0], img[1], img[2]])"
   ]
  },
  {
   "cell_type": "code",
   "execution_count": 25,
   "metadata": {},
   "outputs": [
    {
     "data": {
      "text/plain": [
       "<matplotlib.image.AxesImage at 0x2b910ab8ac10>"
      ]
     },
     "execution_count": 25,
     "metadata": {},
     "output_type": "execute_result"
    },
    {
     "data": {
      "image/png": "[encoded data removed]",
      "text/plain": [
       "<Figure size 432x288 with 1 Axes>"
      ]
     },
     "metadata": {
      "needs_background": "light"
     },
     "output_type": "display_data"
    }
   ],
   "source": [
    "plt.imshow(img)"
   ]
  },
  {
   "cell_type": "code",
   "execution_count": 23,
   "metadata": {},
   "outputs": [
    {
     "data": {
      "text/plain": [
       "(3, 32, 32)"
      ]
     },
     "execution_count": 23,
     "metadata": {},
     "output_type": "execute_result"
    }
   ],
   "source": [
    "img.shape"
   ]
  },
  {
   "cell_type": "code",
   "execution_count": 3,
   "metadata": {},
   "outputs": [],
   "source": [
    "def test(loader, model, save=False, bn_eval=True):\n",
    "    \n",
    "    if bn_eval: # forward prop data twice to update BN running averages\n",
    "        model.train()\n",
    "        for _ in range(2):\n",
    "            for batch_idx, (inputs, targets) in enumerate(loader):\n",
    "                if use_cuda:\n",
    "                    inputs, targets = inputs.cuda(), targets.cuda()\n",
    "                _ = (model(inputs, True))\n",
    "\n",
    "    model.eval()\n",
    "    correct, total, total_loss = 0,0,0\n",
    "    tot_iters = len(loader)\n",
    "    for batch_idx, (inputs, targets) in enumerate(loader):\n",
    "        if use_cuda:\n",
    "            inputs, targets = inputs.cuda(), targets.cuda()\n",
    "        with torch.no_grad():\n",
    "            outputs = (model(inputs, True))\n",
    "\n",
    "            _, predicted = torch.max(nn.Softmax(dim=1)(outputs).data, 1)\n",
    "            total += targets.size(0)\n",
    "            correct += torch.sum(predicted.eq(targets.data)).cpu()\n",
    "            total_loss += model.loss_fn(outputs, targets).item()\n",
    "\n",
    "    # Save checkpoint.\n",
    "    acc = 100.*float(correct)/float(total)\n",
    "    loss = total_loss/tot_iters\n",
    "#     if save and acc > best_acc:\n",
    "#         best_acc = acc\n",
    "#         print('Saving best model..')\n",
    "#         state = {\n",
    "#             'model': model0,\n",
    "#             'epoch': epoch\n",
    "#         }\n",
    "#         with open(args.save_dir + '/best_model.pt', 'wb') as f:\n",
    "#             torch.save(state, f)\n",
    "    return loss, acc\n"
   ]
  },
  {
   "cell_type": "code",
   "execution_count": 35,
   "metadata": {},
   "outputs": [],
   "source": [
    "epoch = 'init_model'"
   ]
  },
  {
   "cell_type": "code",
   "execution_count": 36,
   "metadata": {},
   "outputs": [],
   "source": [
    "checkpoint = torch.load('/home/hattie/random_games/exp_cifar_long_lrsh/cifar10_origtest_convnet_trainfirst_iterT99999999_iterR0_iterRsb1_gam0.0_alf1.0_lrT0.1_lrR0.1_momT0.9_momR0_l2T0.0005_l2R0_ep100_seed0_inittypeprev_fromfresh/' + epoch +'.tar')"
   ]
  },
  {
   "cell_type": "code",
   "execution_count": 4,
   "metadata": {},
   "outputs": [],
   "source": [
    "model = RandomGame(model_func=WideResNet, num_class=10, depth=40, num_classes=10, widen_factor=2, dropRate=0.0)"
   ]
  },
  {
   "cell_type": "code",
   "execution_count": 5,
   "metadata": {},
   "outputs": [
    {
     "ename": "NameError",
     "evalue": "name 'checkpoint' is not defined",
     "output_type": "error",
     "traceback": [
      "\u001b[0;31m---------------------------------------------------------------------------\u001b[0m",
      "\u001b[0;31mNameError\u001b[0m                                 Traceback (most recent call last)",
      "\u001b[0;32m<ipython-input-5-144de018e26d>\u001b[0m in \u001b[0;36m<module>\u001b[0;34m\u001b[0m\n\u001b[0;32m----> 1\u001b[0;31m \u001b[0mmodel\u001b[0m\u001b[0;34m.\u001b[0m\u001b[0mload_state_dict\u001b[0m\u001b[0;34m(\u001b[0m\u001b[0mcheckpoint\u001b[0m\u001b[0;34m[\u001b[0m\u001b[0;34m'state_dict'\u001b[0m\u001b[0;34m]\u001b[0m\u001b[0;34m)\u001b[0m\u001b[0;34m\u001b[0m\u001b[0;34m\u001b[0m\u001b[0m\n\u001b[0m",
      "\u001b[0;31mNameError\u001b[0m: name 'checkpoint' is not defined"
     ]
    }
   ],
   "source": [
    "model.load_state_dict(checkpoint['state_dict'])"
   ]
  },
  {
   "cell_type": "code",
   "execution_count": null,
   "metadata": {},
   "outputs": [],
   "source": []
  },
  {
   "cell_type": "code",
   "execution_count": 5,
   "metadata": {},
   "outputs": [],
   "source": [
    "use_cuda=True"
   ]
  },
  {
   "cell_type": "code",
   "execution_count": 6,
   "metadata": {},
   "outputs": [
    {
     "data": {
      "text/plain": [
       "RandomGame(\n",
       "  (feature): WideResNet(\n",
       "    (conv1): Conv2d(3, 16, kernel_size=(3, 3), stride=(1, 1), padding=(1, 1), bias=False)\n",
       "    (block1): NetworkBlock(\n",
       "      (layer): Sequential(\n",
       "        (0): BasicBlock(\n",
       "          (bn1): BatchNorm2d(16, eps=1e-05, momentum=0.1, affine=True, track_running_stats=True)\n",
       "          (relu1): ReLU(inplace=True)\n",
       "          (conv1): Conv2d(16, 32, kernel_size=(3, 3), stride=(1, 1), padding=(1, 1), bias=False)\n",
       "          (bn2): BatchNorm2d(32, eps=1e-05, momentum=0.1, affine=True, track_running_stats=True)\n",
       "          (relu2): ReLU(inplace=True)\n",
       "          (conv2): Conv2d(32, 32, kernel_size=(3, 3), stride=(1, 1), padding=(1, 1), bias=False)\n",
       "          (convShortcut): Conv2d(16, 32, kernel_size=(1, 1), stride=(1, 1), bias=False)\n",
       "        )\n",
       "        (1): BasicBlock(\n",
       "          (bn1): BatchNorm2d(32, eps=1e-05, momentum=0.1, affine=True, track_running_stats=True)\n",
       "          (relu1): ReLU(inplace=True)\n",
       "          (conv1): Conv2d(32, 32, kernel_size=(3, 3), stride=(1, 1), padding=(1, 1), bias=False)\n",
       "          (bn2): BatchNorm2d(32, eps=1e-05, momentum=0.1, affine=True, track_running_stats=True)\n",
       "          (relu2): ReLU(inplace=True)\n",
       "          (conv2): Conv2d(32, 32, kernel_size=(3, 3), stride=(1, 1), padding=(1, 1), bias=False)\n",
       "        )\n",
       "        (2): BasicBlock(\n",
       "          (bn1): BatchNorm2d(32, eps=1e-05, momentum=0.1, affine=True, track_running_stats=True)\n",
       "          (relu1): ReLU(inplace=True)\n",
       "          (conv1): Conv2d(32, 32, kernel_size=(3, 3), stride=(1, 1), padding=(1, 1), bias=False)\n",
       "          (bn2): BatchNorm2d(32, eps=1e-05, momentum=0.1, affine=True, track_running_stats=True)\n",
       "          (relu2): ReLU(inplace=True)\n",
       "          (conv2): Conv2d(32, 32, kernel_size=(3, 3), stride=(1, 1), padding=(1, 1), bias=False)\n",
       "        )\n",
       "        (3): BasicBlock(\n",
       "          (bn1): BatchNorm2d(32, eps=1e-05, momentum=0.1, affine=True, track_running_stats=True)\n",
       "          (relu1): ReLU(inplace=True)\n",
       "          (conv1): Conv2d(32, 32, kernel_size=(3, 3), stride=(1, 1), padding=(1, 1), bias=False)\n",
       "          (bn2): BatchNorm2d(32, eps=1e-05, momentum=0.1, affine=True, track_running_stats=True)\n",
       "          (relu2): ReLU(inplace=True)\n",
       "          (conv2): Conv2d(32, 32, kernel_size=(3, 3), stride=(1, 1), padding=(1, 1), bias=False)\n",
       "        )\n",
       "        (4): BasicBlock(\n",
       "          (bn1): BatchNorm2d(32, eps=1e-05, momentum=0.1, affine=True, track_running_stats=True)\n",
       "          (relu1): ReLU(inplace=True)\n",
       "          (conv1): Conv2d(32, 32, kernel_size=(3, 3), stride=(1, 1), padding=(1, 1), bias=False)\n",
       "          (bn2): BatchNorm2d(32, eps=1e-05, momentum=0.1, affine=True, track_running_stats=True)\n",
       "          (relu2): ReLU(inplace=True)\n",
       "          (conv2): Conv2d(32, 32, kernel_size=(3, 3), stride=(1, 1), padding=(1, 1), bias=False)\n",
       "        )\n",
       "        (5): BasicBlock(\n",
       "          (bn1): BatchNorm2d(32, eps=1e-05, momentum=0.1, affine=True, track_running_stats=True)\n",
       "          (relu1): ReLU(inplace=True)\n",
       "          (conv1): Conv2d(32, 32, kernel_size=(3, 3), stride=(1, 1), padding=(1, 1), bias=False)\n",
       "          (bn2): BatchNorm2d(32, eps=1e-05, momentum=0.1, affine=True, track_running_stats=True)\n",
       "          (relu2): ReLU(inplace=True)\n",
       "          (conv2): Conv2d(32, 32, kernel_size=(3, 3), stride=(1, 1), padding=(1, 1), bias=False)\n",
       "        )\n",
       "      )\n",
       "    )\n",
       "    (block2): NetworkBlock(\n",
       "      (layer): Sequential(\n",
       "        (0): BasicBlock(\n",
       "          (bn1): BatchNorm2d(32, eps=1e-05, momentum=0.1, affine=True, track_running_stats=True)\n",
       "          (relu1): ReLU(inplace=True)\n",
       "          (conv1): Conv2d(32, 64, kernel_size=(3, 3), stride=(2, 2), padding=(1, 1), bias=False)\n",
       "          (bn2): BatchNorm2d(64, eps=1e-05, momentum=0.1, affine=True, track_running_stats=True)\n",
       "          (relu2): ReLU(inplace=True)\n",
       "          (conv2): Conv2d(64, 64, kernel_size=(3, 3), stride=(1, 1), padding=(1, 1), bias=False)\n",
       "          (convShortcut): Conv2d(32, 64, kernel_size=(1, 1), stride=(2, 2), bias=False)\n",
       "        )\n",
       "        (1): BasicBlock(\n",
       "          (bn1): BatchNorm2d(64, eps=1e-05, momentum=0.1, affine=True, track_running_stats=True)\n",
       "          (relu1): ReLU(inplace=True)\n",
       "          (conv1): Conv2d(64, 64, kernel_size=(3, 3), stride=(1, 1), padding=(1, 1), bias=False)\n",
       "          (bn2): BatchNorm2d(64, eps=1e-05, momentum=0.1, affine=True, track_running_stats=True)\n",
       "          (relu2): ReLU(inplace=True)\n",
       "          (conv2): Conv2d(64, 64, kernel_size=(3, 3), stride=(1, 1), padding=(1, 1), bias=False)\n",
       "        )\n",
       "        (2): BasicBlock(\n",
       "          (bn1): BatchNorm2d(64, eps=1e-05, momentum=0.1, affine=True, track_running_stats=True)\n",
       "          (relu1): ReLU(inplace=True)\n",
       "          (conv1): Conv2d(64, 64, kernel_size=(3, 3), stride=(1, 1), padding=(1, 1), bias=False)\n",
       "          (bn2): BatchNorm2d(64, eps=1e-05, momentum=0.1, affine=True, track_running_stats=True)\n",
       "          (relu2): ReLU(inplace=True)\n",
       "          (conv2): Conv2d(64, 64, kernel_size=(3, 3), stride=(1, 1), padding=(1, 1), bias=False)\n",
       "        )\n",
       "        (3): BasicBlock(\n",
       "          (bn1): BatchNorm2d(64, eps=1e-05, momentum=0.1, affine=True, track_running_stats=True)\n",
       "          (relu1): ReLU(inplace=True)\n",
       "          (conv1): Conv2d(64, 64, kernel_size=(3, 3), stride=(1, 1), padding=(1, 1), bias=False)\n",
       "          (bn2): BatchNorm2d(64, eps=1e-05, momentum=0.1, affine=True, track_running_stats=True)\n",
       "          (relu2): ReLU(inplace=True)\n",
       "          (conv2): Conv2d(64, 64, kernel_size=(3, 3), stride=(1, 1), padding=(1, 1), bias=False)\n",
       "        )\n",
       "        (4): BasicBlock(\n",
       "          (bn1): BatchNorm2d(64, eps=1e-05, momentum=0.1, affine=True, track_running_stats=True)\n",
       "          (relu1): ReLU(inplace=True)\n",
       "          (conv1): Conv2d(64, 64, kernel_size=(3, 3), stride=(1, 1), padding=(1, 1), bias=False)\n",
       "          (bn2): BatchNorm2d(64, eps=1e-05, momentum=0.1, affine=True, track_running_stats=True)\n",
       "          (relu2): ReLU(inplace=True)\n",
       "          (conv2): Conv2d(64, 64, kernel_size=(3, 3), stride=(1, 1), padding=(1, 1), bias=False)\n",
       "        )\n",
       "        (5): BasicBlock(\n",
       "          (bn1): BatchNorm2d(64, eps=1e-05, momentum=0.1, affine=True, track_running_stats=True)\n",
       "          (relu1): ReLU(inplace=True)\n",
       "          (conv1): Conv2d(64, 64, kernel_size=(3, 3), stride=(1, 1), padding=(1, 1), bias=False)\n",
       "          (bn2): BatchNorm2d(64, eps=1e-05, momentum=0.1, affine=True, track_running_stats=True)\n",
       "          (relu2): ReLU(inplace=True)\n",
       "          (conv2): Conv2d(64, 64, kernel_size=(3, 3), stride=(1, 1), padding=(1, 1), bias=False)\n",
       "        )\n",
       "      )\n",
       "    )\n",
       "    (block3): NetworkBlock(\n",
       "      (layer): Sequential(\n",
       "        (0): BasicBlock(\n",
       "          (bn1): BatchNorm2d(64, eps=1e-05, momentum=0.1, affine=True, track_running_stats=True)\n",
       "          (relu1): ReLU(inplace=True)\n",
       "          (conv1): Conv2d(64, 128, kernel_size=(3, 3), stride=(2, 2), padding=(1, 1), bias=False)\n",
       "          (bn2): BatchNorm2d(128, eps=1e-05, momentum=0.1, affine=True, track_running_stats=True)\n",
       "          (relu2): ReLU(inplace=True)\n",
       "          (conv2): Conv2d(128, 128, kernel_size=(3, 3), stride=(1, 1), padding=(1, 1), bias=False)\n",
       "          (convShortcut): Conv2d(64, 128, kernel_size=(1, 1), stride=(2, 2), bias=False)\n",
       "        )\n",
       "        (1): BasicBlock(\n",
       "          (bn1): BatchNorm2d(128, eps=1e-05, momentum=0.1, affine=True, track_running_stats=True)\n",
       "          (relu1): ReLU(inplace=True)\n",
       "          (conv1): Conv2d(128, 128, kernel_size=(3, 3), stride=(1, 1), padding=(1, 1), bias=False)\n",
       "          (bn2): BatchNorm2d(128, eps=1e-05, momentum=0.1, affine=True, track_running_stats=True)\n",
       "          (relu2): ReLU(inplace=True)\n",
       "          (conv2): Conv2d(128, 128, kernel_size=(3, 3), stride=(1, 1), padding=(1, 1), bias=False)\n",
       "        )\n",
       "        (2): BasicBlock(\n",
       "          (bn1): BatchNorm2d(128, eps=1e-05, momentum=0.1, affine=True, track_running_stats=True)\n",
       "          (relu1): ReLU(inplace=True)\n",
       "          (conv1): Conv2d(128, 128, kernel_size=(3, 3), stride=(1, 1), padding=(1, 1), bias=False)\n",
       "          (bn2): BatchNorm2d(128, eps=1e-05, momentum=0.1, affine=True, track_running_stats=True)\n",
       "          (relu2): ReLU(inplace=True)\n",
       "          (conv2): Conv2d(128, 128, kernel_size=(3, 3), stride=(1, 1), padding=(1, 1), bias=False)\n",
       "        )\n",
       "        (3): BasicBlock(\n",
       "          (bn1): BatchNorm2d(128, eps=1e-05, momentum=0.1, affine=True, track_running_stats=True)\n",
       "          (relu1): ReLU(inplace=True)\n",
       "          (conv1): Conv2d(128, 128, kernel_size=(3, 3), stride=(1, 1), padding=(1, 1), bias=False)\n",
       "          (bn2): BatchNorm2d(128, eps=1e-05, momentum=0.1, affine=True, track_running_stats=True)\n",
       "          (relu2): ReLU(inplace=True)\n",
       "          (conv2): Conv2d(128, 128, kernel_size=(3, 3), stride=(1, 1), padding=(1, 1), bias=False)\n",
       "        )\n",
       "        (4): BasicBlock(\n",
       "          (bn1): BatchNorm2d(128, eps=1e-05, momentum=0.1, affine=True, track_running_stats=True)\n",
       "          (relu1): ReLU(inplace=True)\n",
       "          (conv1): Conv2d(128, 128, kernel_size=(3, 3), stride=(1, 1), padding=(1, 1), bias=False)\n",
       "          (bn2): BatchNorm2d(128, eps=1e-05, momentum=0.1, affine=True, track_running_stats=True)\n",
       "          (relu2): ReLU(inplace=True)\n",
       "          (conv2): Conv2d(128, 128, kernel_size=(3, 3), stride=(1, 1), padding=(1, 1), bias=False)\n",
       "        )\n",
       "        (5): BasicBlock(\n",
       "          (bn1): BatchNorm2d(128, eps=1e-05, momentum=0.1, affine=True, track_running_stats=True)\n",
       "          (relu1): ReLU(inplace=True)\n",
       "          (conv1): Conv2d(128, 128, kernel_size=(3, 3), stride=(1, 1), padding=(1, 1), bias=False)\n",
       "          (bn2): BatchNorm2d(128, eps=1e-05, momentum=0.1, affine=True, track_running_stats=True)\n",
       "          (relu2): ReLU(inplace=True)\n",
       "          (conv2): Conv2d(128, 128, kernel_size=(3, 3), stride=(1, 1), padding=(1, 1), bias=False)\n",
       "        )\n",
       "      )\n",
       "    )\n",
       "    (bn1): BatchNorm2d(128, eps=1e-05, momentum=0.1, affine=True, track_running_stats=True)\n",
       "    (relu): ReLU(inplace=True)\n",
       "  )\n",
       "  (true_classifier): Linear(in_features=128, out_features=10, bias=True)\n",
       "  (rand_classifier): Sequential(\n",
       "    (0): Linear(in_features=128, out_features=10, bias=True)\n",
       "  )\n",
       "  (loss_fn): CrossEntropyLoss()\n",
       ")"
      ]
     },
     "execution_count": 6,
     "metadata": {},
     "output_type": "execute_result"
    }
   ],
   "source": [
    "model.cuda()"
   ]
  },
  {
   "cell_type": "code",
   "execution_count": 9,
   "metadata": {
    "scrolled": true
   },
   "outputs": [
    {
     "data": {
      "text/plain": [
       "(2.5244147626659537, 10.66)"
      ]
     },
     "execution_count": 9,
     "metadata": {},
     "output_type": "execute_result"
    }
   ],
   "source": [
    "test(trainloader, model, save=False, bn_eval=False)"
   ]
  },
  {
   "cell_type": "code",
   "execution_count": 32,
   "metadata": {},
   "outputs": [],
   "source": [
    "result_dict = {'acc':[], 'loss':[]}"
   ]
  },
  {
   "cell_type": "code",
   "execution_count": 33,
   "metadata": {},
   "outputs": [
    {
     "name": "stdout",
     "output_type": "stream",
     "text": [
      "75.03\n",
      "80.31\n",
      "78.94\n",
      "77.85\n",
      "77.96\n",
      "84.18\n",
      "85.6\n",
      "84.13\n",
      "85.33\n",
      "86.15\n",
      "85.84\n",
      "84.24\n",
      "87.97\n",
      "87.11\n",
      "84.79\n",
      "88.5\n",
      "87.79\n",
      "88.79\n",
      "89.31\n",
      "89.85\n",
      "89.39\n",
      "89.6\n",
      "90.91\n",
      "91.52\n",
      "92.15\n",
      "92.08\n",
      "92.69\n",
      "92.83\n",
      "92.74\n",
      "93.18\n",
      "93.46\n",
      "93.38\n",
      "92.91\n"
     ]
    }
   ],
   "source": [
    "trainset = CIFAR10CDataset(root=data_path + 'CIFAR-10-C/processed_data/', corruption='defocus_blur', severity=1, transform=trans)\n",
    "trainloader = torch.utils.data.DataLoader(trainset, batch_size=128, shuffle=True, num_workers=4)\n",
    "for epoch in ['3', '6', '9', '12', '15', '18', '21', '24', '27', '30', '33', '36', '39', '42', '45', '48','51','54','57','60','63','66','69','72','75','78','81','84','87','90','93','96','99']:\n",
    "    checkpoint = torch.load('/home/hattie/random_games/exp_cifar_long_lrsh/cifar10_origtest_convnet_trainfirst_iterT99999999_iterR0_iterRsb1_gam0.0_alf1.0_lrT0.1_lrR0.1_momT0.9_momR0_l2T0.0005_l2R0_ep100_seed0_inittypeprev_fromfresh/' + epoch +'.tar')\n",
    "    model.load_state_dict(checkpoint['state_dict'])\n",
    "    loss, acc = test(trainloader, model, save=False, bn_eval=False)\n",
    "    print(acc)\n",
    "    result_dict['acc'].append(acc)\n",
    "    result_dict['loss'].append(loss)"
   ]
  },
  {
   "cell_type": "code",
   "execution_count": null,
   "metadata": {},
   "outputs": [],
   "source": []
  },
  {
   "cell_type": "code",
   "execution_count": 34,
   "metadata": {},
   "outputs": [],
   "source": [
    "result_dict_game = {'acc':[], 'loss':[]}"
   ]
  },
  {
   "cell_type": "code",
   "execution_count": 35,
   "metadata": {},
   "outputs": [
    {
     "name": "stdout",
     "output_type": "stream",
     "text": [
      "73.3\n",
      "79.88\n",
      "81.6\n",
      "80.63\n",
      "81.2\n",
      "81.74\n",
      "84.06\n",
      "85.16\n",
      "86.01\n",
      "85.13\n",
      "85.31\n",
      "84.78\n",
      "87.54\n",
      "87.46\n",
      "86.45\n",
      "87.49\n",
      "87.93\n",
      "89.16\n",
      "89.75\n",
      "89.98\n",
      "89.3\n",
      "89.92\n",
      "90.45\n",
      "91.65\n",
      "91.77\n",
      "92.45\n",
      "92.32\n",
      "92.42\n",
      "93.45\n",
      "93.2\n",
      "93.4\n",
      "93.6\n",
      "93.69\n"
     ]
    }
   ],
   "source": [
    "trainset = CIFAR10CDataset(root=data_path + 'CIFAR-10-C/processed_data/', corruption='defocus_blur', severity=1, transform=trans)\n",
    "trainloader = torch.utils.data.DataLoader(trainset, batch_size=128, shuffle=True, num_workers=4)\n",
    "for epoch in ['3', '6', '9', '12', '15', '18', '21', '24', '27', '30', '33', '36', '39', '42', '45', '48','51','54','57','60','63','66','69','72','75','78','81','84','87','90','93','96','99']:\n",
    "    checkpoint = torch.load('/home/hattie/random_games/exp_cifar_long_lrsh/cifar10_origtest_convnet_randfirst_iterT0_iterR99999999_iterRsb1_gam0.005_alf1.0_lrT0.1_lrR0.1_momT0.9_momR0_l2T0.0005_l2R0_dgm0.99per300_ep100_simt_rpb_seed0_inittypetrue_fromfresh/' + epoch +'.tar')\n",
    "    model.load_state_dict(checkpoint['state_dict'])\n",
    "    loss, acc = test(trainloader, model, save=False, bn_eval=False)\n",
    "    print(acc)\n",
    "    result_dict_game['acc'].append(acc)\n",
    "    result_dict_game['loss'].append(loss)"
   ]
  },
  {
   "cell_type": "code",
   "execution_count": 71,
   "metadata": {},
   "outputs": [
    {
     "data": {
      "text/plain": [
       "tensor([8, 1, 4, 8, 9, 0, 7, 2, 5, 4, 8, 1, 4, 8, 9, 0, 7, 2, 5, 4, 8, 1, 4, 8,\n",
       "        9, 0, 7, 2, 5, 4])"
      ]
     },
     "execution_count": 71,
     "metadata": {},
     "output_type": "execute_result"
    }
   ],
   "source": [
    "torch.randint(0, 10, (10,)).repeat(3)"
   ]
  },
  {
   "cell_type": "code",
   "execution_count": null,
   "metadata": {},
   "outputs": [],
   "source": []
  },
  {
   "cell_type": "code",
   "execution_count": 47,
   "metadata": {},
   "outputs": [],
   "source": [
    "trans=transforms.Compose(\n",
    "              [transforms.ToTensor(),\n",
    "               transforms.Normalize([0.5] * 3, [0.5] * 3)])"
   ]
  },
  {
   "cell_type": "code",
   "execution_count": 54,
   "metadata": {},
   "outputs": [],
   "source": [
    "results_orig = {}\n",
    "results_game = {}"
   ]
  },
  {
   "cell_type": "code",
   "execution_count": 55,
   "metadata": {},
   "outputs": [
    {
     "name": "stdout",
     "output_type": "stream",
     "text": [
      "91.61\n",
      "91.52\n",
      "87.33\n",
      "86.65\n",
      "82.82\n",
      "82.53\n",
      "83.49\n",
      "82.53\n",
      "61.57\n",
      "58.07\n",
      "77.57\n",
      "76.12\n",
      "55.1\n",
      "57.67\n",
      "69.14\n",
      "64.95\n",
      "87.97\n",
      "87.22\n",
      "85.7\n",
      "84.56\n",
      "78.17\n",
      "79.69\n",
      "74.6\n",
      "71.79\n",
      "80.67\n",
      "77.75\n",
      "62.52\n",
      "56.67\n",
      "61.67\n",
      "53.03\n",
      "83.89\n",
      "83.09\n",
      "90.06\n",
      "90.6\n",
      "82.45\n",
      "79.28\n",
      "73.1\n",
      "68.53\n"
     ]
    }
   ],
   "source": [
    "for cpt in ['brightness', 'defocus_blur', 'fog', 'gaussian_blur', 'glass_blur', 'jpeg_compression', 'pixelate', 'shot_noise', 'spatter', 'zoom_blur', 'contrast', 'elastic_transform', 'frost', 'gaussian_noise', 'impulse_noise', 'motion_blur', 'saturate', 'snow', 'speckle_noise']:\n",
    "    results_orig[cpt] = {'acc': [], 'loss': []}\n",
    "    results_game[cpt] = {'acc': [], 'loss': []}\n",
    "    \n",
    "    trainset = CIFAR10CDataset(root=data_path + 'CIFAR-10-C/processed_data/', corruption=cpt, severity=5, transform=trans)\n",
    "    trainloader = torch.utils.data.DataLoader(trainset, batch_size=128, shuffle=True, num_workers=5)\n",
    "#     orig_checkpoint = torch.load('/home/hattie/random_games/exp_cifar_long_augmix_jsd_simple/cifar10_convnet_NORMAL_trainfirst_iterT1_iterR1_iterRsb1_gam0_alf1_lrT0.1_lrR0.1_momT0.9_momR0_l2T0.0005_l2R0_ep100_seed0_inittypeprev_AUGMIX_mw3_md-1_sev3_jsd_fromfresh/40.tar')\n",
    "    orig_checkpoint = torch.load('/home/hattie/random_games/clean_exp_cifar_fast/cifar10_convnet_NORMAL_trainfirst_iterT1_iterR1_iterRsb1_gam0_alf1_lrT0.1_lrR0.1_momT0.9_momR0_l2T0.0005_l2R0_ep100_seed0_inittypeprev_AUGMIX_mw3_md-1_sev3_fromfresh/final_model.tar')\n",
    "    game_checkpoint = torch.load('/home/hattie/random_games/clean_exp_cifar_fast/cifar10_convnet_trainfirst_iterT1_iterR1_iterRsb1_gam0.003_alf1.0_lrT0.1_lrR0.1_momT0.9_momR0_l2T0.0005_l2R0.0_dgm0.95per300_ep100_simt_seed0_inittypereinit_AUGMIX_mw3_md-1_sev3_fromfresh/final_model.tar')\n",
    "\n",
    "    model.load_state_dict(orig_checkpoint['state_dict'])\n",
    "    loss, acc = test(trainloader, model, save=False, bn_eval=False)\n",
    "    print(acc)\n",
    "    results_orig[cpt]['acc'].append(acc)\n",
    "    results_orig[cpt]['loss'].append(loss)\n",
    "    \n",
    "    model.load_state_dict(game_checkpoint['state_dict'])\n",
    "    loss, acc = test(trainloader, model, save=False, bn_eval=False)\n",
    "    print(acc)\n",
    "    results_game[cpt]['acc'].append(acc)\n",
    "    results_game[cpt]['loss'].append(loss)"
   ]
  },
  {
   "cell_type": "code",
   "execution_count": null,
   "metadata": {},
   "outputs": [],
   "source": []
  },
  {
   "cell_type": "code",
   "execution_count": 50,
   "metadata": {},
   "outputs": [],
   "source": [
    "agg_orig = []\n",
    "for a in results_orig.values():\n",
    "    agg_orig.append(a['acc'][0])"
   ]
  },
  {
   "cell_type": "code",
   "execution_count": 51,
   "metadata": {},
   "outputs": [
    {
     "data": {
      "text/plain": [
       "80.63052631578948"
      ]
     },
     "execution_count": 51,
     "metadata": {},
     "output_type": "execute_result"
    }
   ],
   "source": [
    "np.mean(agg_orig)"
   ]
  },
  {
   "cell_type": "code",
   "execution_count": 52,
   "metadata": {},
   "outputs": [],
   "source": [
    "agg_game = []\n",
    "for a in results_game.values():\n",
    "    agg_game.append(a['acc'][0])"
   ]
  },
  {
   "cell_type": "code",
   "execution_count": 53,
   "metadata": {},
   "outputs": [
    {
     "data": {
      "text/plain": [
       "80.06421052631579"
      ]
     },
     "execution_count": 53,
     "metadata": {},
     "output_type": "execute_result"
    }
   ],
   "source": [
    "np.mean(agg_game)"
   ]
  },
  {
   "cell_type": "code",
   "execution_count": null,
   "metadata": {},
   "outputs": [],
   "source": []
  },
  {
   "cell_type": "code",
   "execution_count": 55,
   "metadata": {},
   "outputs": [
    {
     "data": {
      "text/plain": [
       "{'brightness': {'acc': [90.78], 'loss': [0.34607925322614136]},\n",
       " 'defocus_blur': {'acc': [86.2], 'loss': [0.5251836548500424]},\n",
       " 'fog': {'acc': [78.28], 'loss': [0.8649170493023305]},\n",
       " 'gaussian_blur': {'acc': [81.87], 'loss': [0.6962963978323755]},\n",
       " 'glass_blur': {'acc': [55.47], 'loss': [1.907024332239658]},\n",
       " 'jpeg_compression': {'acc': [75.62], 'loss': [0.9691366191151776]},\n",
       " 'pixelate': {'acc': [64.04], 'loss': [1.5472308502921575]},\n",
       " 'shot_noise': {'acc': [62.3], 'loss': [1.4410294973397557]},\n",
       " 'spatter': {'acc': [86.23], 'loss': [0.5514675822061829]},\n",
       " 'zoom_blur': {'acc': [83.85], 'loss': [0.6549653131750566]},\n",
       " 'contrast': {'acc': [76.11], 'loss': [0.8479700209219244]},\n",
       " 'elastic_transform': {'acc': [71.34], 'loss': [1.190527531165111]},\n",
       " 'frost': {'acc': [74.1], 'loss': [1.063883372499973]},\n",
       " 'gaussian_noise': {'acc': [55.6], 'loss': [1.730150290682346]},\n",
       " 'impulse_noise': {'acc': [54.62], 'loss': [1.5949873501741434]},\n",
       " 'motion_blur': {'acc': [81.47], 'loss': [0.7060564277292807]},\n",
       " 'saturate': {'acc': [90.41], 'loss': [0.35853253427562837]},\n",
       " 'snow': {'acc': [77.97], 'loss': [0.9228395653676383]},\n",
       " 'speckle_noise': {'acc': [66.09], 'loss': [1.2687370513058915]}}"
      ]
     },
     "execution_count": 55,
     "metadata": {},
     "output_type": "execute_result"
    }
   ],
   "source": [
    "results_orig"
   ]
  },
  {
   "cell_type": "code",
   "execution_count": 56,
   "metadata": {},
   "outputs": [
    {
     "data": {
      "text/plain": [
       "{'brightness': {'acc': [92.22], 'loss': [0.2665015467548672]},\n",
       " 'defocus_blur': {'acc': [88.92], 'loss': [0.4016039978854264]},\n",
       " 'fog': {'acc': [83.8], 'loss': [0.6084768085540095]},\n",
       " 'gaussian_blur': {'acc': [86.56], 'loss': [0.47652678851839864]},\n",
       " 'glass_blur': {'acc': [62.35], 'loss': [1.3849287123619756]},\n",
       " 'jpeg_compression': {'acc': [75.39], 'loss': [0.9439749121665955]},\n",
       " 'pixelate': {'acc': [56.69], 'loss': [2.0575858384748047]},\n",
       " 'shot_noise': {'acc': [71.39], 'loss': [0.9385999931564813]},\n",
       " 'spatter': {'acc': [86.74], 'loss': [0.48180748805215085]},\n",
       " 'zoom_blur': {'acc': [87.73], 'loss': [0.43371568280684797]},\n",
       " 'contrast': {'acc': [82.6], 'loss': [0.5706020714361456]},\n",
       " 'elastic_transform': {'acc': [77.08], 'loss': [0.8425242331209062]},\n",
       " 'frost': {'acc': [81.04], 'loss': [0.6867305349700058]},\n",
       " 'gaussian_noise': {'acc': [65.96], 'loss': [1.134965120991574]},\n",
       " 'impulse_noise': {'acc': [66.59], 'loss': [1.0374340460270266]},\n",
       " 'motion_blur': {'acc': [86.11], 'loss': [0.4920562249195727]},\n",
       " 'saturate': {'acc': [90.45], 'loss': [0.3222956466901151]},\n",
       " 'snow': {'acc': [82.54], 'loss': [0.6508463396678997]},\n",
       " 'speckle_noise': {'acc': [74.51], 'loss': [0.8482934410059]}}"
      ]
     },
     "execution_count": 56,
     "metadata": {},
     "output_type": "execute_result"
    }
   ],
   "source": [
    "results_game"
   ]
  },
  {
   "cell_type": "code",
   "execution_count": null,
   "metadata": {},
   "outputs": [],
   "source": []
  },
  {
   "cell_type": "code",
   "execution_count": 12,
   "metadata": {},
   "outputs": [
    {
     "data": {
      "text/plain": [
       "{'brightness': {'acc': [91.48], 'loss': [0.26471847795610187]},\n",
       " 'defocus_blur': {'acc': [89.18], 'loss': [0.36125521210930017]},\n",
       " 'fog': {'acc': [80.08], 'loss': [0.7543166792845424]},\n",
       " 'gaussian_blur': {'acc': [87.5], 'loss': [0.4211588479767117]},\n",
       " 'glass_blur': {'acc': [68.55], 'loss': [1.114969718682615]},\n",
       " 'jpeg_compression': {'acc': [78.85], 'loss': [0.7164509104022497]},\n",
       " 'pixelate': {'acc': [61.47], 'loss': [1.7852182433575015]},\n",
       " 'shot_noise': {'acc': [77.03], 'loss': [0.8337837902805473]},\n",
       " 'spatter': {'acc': [88.48], 'loss': [0.36740101213696635]},\n",
       " 'zoom_blur': {'acc': [88.37], 'loss': [0.40307141368902183]},\n",
       " 'contrast': {'acc': [83.57], 'loss': [0.5576626801792579]},\n",
       " 'elastic_transform': {'acc': [77.42], 'loss': [0.7944916532009463]},\n",
       " 'frost': {'acc': [81.95], 'loss': [0.6243118745616719]},\n",
       " 'gaussian_noise': {'acc': [72.29], 'loss': [1.016733348746843]},\n",
       " 'impulse_noise': {'acc': [71.28], 'loss': [1.0443973805330977]},\n",
       " 'motion_blur': {'acc': [86.28], 'loss': [0.46073937453801117]},\n",
       " 'saturate': {'acc': [90.98], 'loss': [0.2836816040209577]},\n",
       " 'snow': {'acc': [82.41], 'loss': [0.6030207200895382]},\n",
       " 'speckle_noise': {'acc': [78.29], 'loss': [0.7879636876190765]}}"
      ]
     },
     "execution_count": 12,
     "metadata": {},
     "output_type": "execute_result"
    }
   ],
   "source": [
    "results_game"
   ]
  },
  {
   "cell_type": "code",
   "execution_count": 66,
   "metadata": {},
   "outputs": [],
   "source": [
    "trans = ([transforms.ToTensor()])\n",
    "trans = transforms.Compose(trans)"
   ]
  },
  {
   "cell_type": "code",
   "execution_count": 67,
   "metadata": {},
   "outputs": [],
   "source": [
    "results_orig = {}\n",
    "results_game = {}"
   ]
  },
  {
   "cell_type": "code",
   "execution_count": 57,
   "metadata": {},
   "outputs": [
    {
     "name": "stdout",
     "output_type": "stream",
     "text": [
      "57.2\n",
      "53.19\n",
      "51.65\n",
      "45.18\n",
      "50.63\n",
      "47.1\n",
      "51.63\n",
      "45.1\n",
      "23.05\n",
      "23.88\n",
      "35.45\n",
      "37.56\n",
      "45.99\n",
      "42.28\n",
      "25.19\n",
      "35.78\n",
      "45.1\n",
      "39.95\n"
     ]
    },
    {
     "ename": "KeyboardInterrupt",
     "evalue": "",
     "output_type": "error",
     "traceback": [
      "\u001b[0;31m---------------------------------------------------------------------------\u001b[0m",
      "\u001b[0;31mKeyboardInterrupt\u001b[0m                         Traceback (most recent call last)",
      "\u001b[0;32m<ipython-input-57-c971b7365c0d>\u001b[0m in \u001b[0;36m<module>\u001b[0;34m\u001b[0m\n\u001b[1;32m      6\u001b[0m     \u001b[0mtrainloader\u001b[0m \u001b[0;34m=\u001b[0m \u001b[0mtorch\u001b[0m\u001b[0;34m.\u001b[0m\u001b[0mutils\u001b[0m\u001b[0;34m.\u001b[0m\u001b[0mdata\u001b[0m\u001b[0;34m.\u001b[0m\u001b[0mDataLoader\u001b[0m\u001b[0;34m(\u001b[0m\u001b[0mtrainset\u001b[0m\u001b[0;34m,\u001b[0m \u001b[0mbatch_size\u001b[0m\u001b[0;34m=\u001b[0m\u001b[0;36m128\u001b[0m\u001b[0;34m,\u001b[0m \u001b[0mshuffle\u001b[0m\u001b[0;34m=\u001b[0m\u001b[0;32mTrue\u001b[0m\u001b[0;34m,\u001b[0m \u001b[0mnum_workers\u001b[0m\u001b[0;34m=\u001b[0m\u001b[0;36m4\u001b[0m\u001b[0;34m)\u001b[0m\u001b[0;34m\u001b[0m\u001b[0;34m\u001b[0m\u001b[0m\n\u001b[1;32m      7\u001b[0m     \u001b[0morig_checkpoint\u001b[0m \u001b[0;34m=\u001b[0m \u001b[0mtorch\u001b[0m\u001b[0;34m.\u001b[0m\u001b[0mload\u001b[0m\u001b[0;34m(\u001b[0m\u001b[0;34m'/home/hattie/random_games/exp_cifar_long_lrsh/cifar10_origtest_convnet_trainfirst_iterT99999999_iterR0_iterRsb1_gam0.0_alf1.0_lrT0.1_lrR0.1_momT0.9_momR0_l2T0.0005_l2R0_ep100_seed0_inittypeprev_fromfresh/60.tar'\u001b[0m\u001b[0;34m)\u001b[0m\u001b[0;34m\u001b[0m\u001b[0;34m\u001b[0m\u001b[0m\n\u001b[0;32m----> 8\u001b[0;31m     \u001b[0mgame_checkpoint\u001b[0m \u001b[0;34m=\u001b[0m \u001b[0mtorch\u001b[0m\u001b[0;34m.\u001b[0m\u001b[0mload\u001b[0m\u001b[0;34m(\u001b[0m\u001b[0;34m'/home/hattie/random_games/exp_cifar_long_lrsh/cifar10_origtest_convnet_randfirst_iterT0_iterR99999999_iterRsb1_gam0.005_alf1.0_lrT0.1_lrR0.1_momT0.9_momR0_l2T0.0005_l2R0_dgm0.99per300_ep100_simt_rpb_seed0_inittypereinit_fromfresh/60.tar'\u001b[0m\u001b[0;34m)\u001b[0m\u001b[0;34m\u001b[0m\u001b[0;34m\u001b[0m\u001b[0m\n\u001b[0m\u001b[1;32m      9\u001b[0m \u001b[0;34m\u001b[0m\u001b[0m\n\u001b[1;32m     10\u001b[0m     \u001b[0mmodel\u001b[0m\u001b[0;34m.\u001b[0m\u001b[0mload_state_dict\u001b[0m\u001b[0;34m(\u001b[0m\u001b[0morig_checkpoint\u001b[0m\u001b[0;34m[\u001b[0m\u001b[0;34m'state_dict'\u001b[0m\u001b[0;34m]\u001b[0m\u001b[0;34m)\u001b[0m\u001b[0;34m\u001b[0m\u001b[0;34m\u001b[0m\u001b[0m\n",
      "\u001b[0;32m~/ilenv/lib/python3.7/site-packages/torch/serialization.py\u001b[0m in \u001b[0;36mload\u001b[0;34m(f, map_location, pickle_module, **pickle_load_args)\u001b[0m\n\u001b[1;32m    592\u001b[0m                     \u001b[0mopened_file\u001b[0m\u001b[0;34m.\u001b[0m\u001b[0mseek\u001b[0m\u001b[0;34m(\u001b[0m\u001b[0morig_position\u001b[0m\u001b[0;34m)\u001b[0m\u001b[0;34m\u001b[0m\u001b[0;34m\u001b[0m\u001b[0m\n\u001b[1;32m    593\u001b[0m                     \u001b[0;32mreturn\u001b[0m \u001b[0mtorch\u001b[0m\u001b[0;34m.\u001b[0m\u001b[0mjit\u001b[0m\u001b[0;34m.\u001b[0m\u001b[0mload\u001b[0m\u001b[0;34m(\u001b[0m\u001b[0mopened_file\u001b[0m\u001b[0;34m)\u001b[0m\u001b[0;34m\u001b[0m\u001b[0;34m\u001b[0m\u001b[0m\n\u001b[0;32m--> 594\u001b[0;31m                 \u001b[0;32mreturn\u001b[0m \u001b[0m_load\u001b[0m\u001b[0;34m(\u001b[0m\u001b[0mopened_zipfile\u001b[0m\u001b[0;34m,\u001b[0m \u001b[0mmap_location\u001b[0m\u001b[0;34m,\u001b[0m \u001b[0mpickle_module\u001b[0m\u001b[0;34m,\u001b[0m \u001b[0;34m**\u001b[0m\u001b[0mpickle_load_args\u001b[0m\u001b[0;34m)\u001b[0m\u001b[0;34m\u001b[0m\u001b[0;34m\u001b[0m\u001b[0m\n\u001b[0m\u001b[1;32m    595\u001b[0m         \u001b[0;32mreturn\u001b[0m \u001b[0m_legacy_load\u001b[0m\u001b[0;34m(\u001b[0m\u001b[0mopened_file\u001b[0m\u001b[0;34m,\u001b[0m \u001b[0mmap_location\u001b[0m\u001b[0;34m,\u001b[0m \u001b[0mpickle_module\u001b[0m\u001b[0;34m,\u001b[0m \u001b[0;34m**\u001b[0m\u001b[0mpickle_load_args\u001b[0m\u001b[0;34m)\u001b[0m\u001b[0;34m\u001b[0m\u001b[0;34m\u001b[0m\u001b[0m\n\u001b[1;32m    596\u001b[0m \u001b[0;34m\u001b[0m\u001b[0m\n",
      "\u001b[0;32m~/ilenv/lib/python3.7/site-packages/torch/serialization.py\u001b[0m in \u001b[0;36m_load\u001b[0;34m(zip_file, map_location, pickle_module, pickle_file, **pickle_load_args)\u001b[0m\n\u001b[1;32m    851\u001b[0m     \u001b[0munpickler\u001b[0m \u001b[0;34m=\u001b[0m \u001b[0mpickle_module\u001b[0m\u001b[0;34m.\u001b[0m\u001b[0mUnpickler\u001b[0m\u001b[0;34m(\u001b[0m\u001b[0mdata_file\u001b[0m\u001b[0;34m,\u001b[0m \u001b[0;34m**\u001b[0m\u001b[0mpickle_load_args\u001b[0m\u001b[0;34m)\u001b[0m\u001b[0;34m\u001b[0m\u001b[0;34m\u001b[0m\u001b[0m\n\u001b[1;32m    852\u001b[0m     \u001b[0munpickler\u001b[0m\u001b[0;34m.\u001b[0m\u001b[0mpersistent_load\u001b[0m \u001b[0;34m=\u001b[0m \u001b[0mpersistent_load\u001b[0m\u001b[0;34m\u001b[0m\u001b[0;34m\u001b[0m\u001b[0m\n\u001b[0;32m--> 853\u001b[0;31m     \u001b[0mresult\u001b[0m \u001b[0;34m=\u001b[0m \u001b[0munpickler\u001b[0m\u001b[0;34m.\u001b[0m\u001b[0mload\u001b[0m\u001b[0;34m(\u001b[0m\u001b[0;34m)\u001b[0m\u001b[0;34m\u001b[0m\u001b[0;34m\u001b[0m\u001b[0m\n\u001b[0m\u001b[1;32m    854\u001b[0m \u001b[0;34m\u001b[0m\u001b[0m\n\u001b[1;32m    855\u001b[0m     \u001b[0mtorch\u001b[0m\u001b[0;34m.\u001b[0m\u001b[0m_utils\u001b[0m\u001b[0;34m.\u001b[0m\u001b[0m_validate_loaded_sparse_tensors\u001b[0m\u001b[0;34m(\u001b[0m\u001b[0;34m)\u001b[0m\u001b[0;34m\u001b[0m\u001b[0;34m\u001b[0m\u001b[0m\n",
      "\u001b[0;32m~/ilenv/lib/python3.7/site-packages/torch/serialization.py\u001b[0m in \u001b[0;36mpersistent_load\u001b[0;34m(saved_id)\u001b[0m\n\u001b[1;32m    843\u001b[0m         \u001b[0mdata_type\u001b[0m\u001b[0;34m,\u001b[0m \u001b[0mkey\u001b[0m\u001b[0;34m,\u001b[0m \u001b[0mlocation\u001b[0m\u001b[0;34m,\u001b[0m \u001b[0msize\u001b[0m \u001b[0;34m=\u001b[0m \u001b[0mdata\u001b[0m\u001b[0;34m\u001b[0m\u001b[0;34m\u001b[0m\u001b[0m\n\u001b[1;32m    844\u001b[0m         \u001b[0;32mif\u001b[0m \u001b[0mkey\u001b[0m \u001b[0;32mnot\u001b[0m \u001b[0;32min\u001b[0m \u001b[0mloaded_storages\u001b[0m\u001b[0;34m:\u001b[0m\u001b[0;34m\u001b[0m\u001b[0;34m\u001b[0m\u001b[0m\n\u001b[0;32m--> 845\u001b[0;31m             \u001b[0mload_tensor\u001b[0m\u001b[0;34m(\u001b[0m\u001b[0mdata_type\u001b[0m\u001b[0;34m,\u001b[0m \u001b[0msize\u001b[0m\u001b[0;34m,\u001b[0m \u001b[0mkey\u001b[0m\u001b[0;34m,\u001b[0m \u001b[0m_maybe_decode_ascii\u001b[0m\u001b[0;34m(\u001b[0m\u001b[0mlocation\u001b[0m\u001b[0;34m)\u001b[0m\u001b[0;34m)\u001b[0m\u001b[0;34m\u001b[0m\u001b[0;34m\u001b[0m\u001b[0m\n\u001b[0m\u001b[1;32m    846\u001b[0m         \u001b[0mstorage\u001b[0m \u001b[0;34m=\u001b[0m \u001b[0mloaded_storages\u001b[0m\u001b[0;34m[\u001b[0m\u001b[0mkey\u001b[0m\u001b[0;34m]\u001b[0m\u001b[0;34m\u001b[0m\u001b[0;34m\u001b[0m\u001b[0m\n\u001b[1;32m    847\u001b[0m         \u001b[0;32mreturn\u001b[0m \u001b[0mstorage\u001b[0m\u001b[0;34m\u001b[0m\u001b[0;34m\u001b[0m\u001b[0m\n",
      "\u001b[0;32m~/ilenv/lib/python3.7/site-packages/torch/serialization.py\u001b[0m in \u001b[0;36mload_tensor\u001b[0;34m(data_type, size, key, location)\u001b[0m\n\u001b[1;32m    832\u001b[0m \u001b[0;34m\u001b[0m\u001b[0m\n\u001b[1;32m    833\u001b[0m         \u001b[0mstorage\u001b[0m \u001b[0;34m=\u001b[0m \u001b[0mzip_file\u001b[0m\u001b[0;34m.\u001b[0m\u001b[0mget_storage_from_record\u001b[0m\u001b[0;34m(\u001b[0m\u001b[0mname\u001b[0m\u001b[0;34m,\u001b[0m \u001b[0msize\u001b[0m\u001b[0;34m,\u001b[0m \u001b[0mdtype\u001b[0m\u001b[0;34m)\u001b[0m\u001b[0;34m.\u001b[0m\u001b[0mstorage\u001b[0m\u001b[0;34m(\u001b[0m\u001b[0;34m)\u001b[0m\u001b[0;34m\u001b[0m\u001b[0;34m\u001b[0m\u001b[0m\n\u001b[0;32m--> 834\u001b[0;31m         \u001b[0mloaded_storages\u001b[0m\u001b[0;34m[\u001b[0m\u001b[0mkey\u001b[0m\u001b[0;34m]\u001b[0m \u001b[0;34m=\u001b[0m \u001b[0mrestore_location\u001b[0m\u001b[0;34m(\u001b[0m\u001b[0mstorage\u001b[0m\u001b[0;34m,\u001b[0m \u001b[0mlocation\u001b[0m\u001b[0;34m)\u001b[0m\u001b[0;34m\u001b[0m\u001b[0;34m\u001b[0m\u001b[0m\n\u001b[0m\u001b[1;32m    835\u001b[0m \u001b[0;34m\u001b[0m\u001b[0m\n\u001b[1;32m    836\u001b[0m     \u001b[0;32mdef\u001b[0m \u001b[0mpersistent_load\u001b[0m\u001b[0;34m(\u001b[0m\u001b[0msaved_id\u001b[0m\u001b[0;34m)\u001b[0m\u001b[0;34m:\u001b[0m\u001b[0;34m\u001b[0m\u001b[0;34m\u001b[0m\u001b[0m\n",
      "\u001b[0;32m~/ilenv/lib/python3.7/site-packages/torch/serialization.py\u001b[0m in \u001b[0;36mdefault_restore_location\u001b[0;34m(storage, location)\u001b[0m\n\u001b[1;32m    173\u001b[0m \u001b[0;32mdef\u001b[0m \u001b[0mdefault_restore_location\u001b[0m\u001b[0;34m(\u001b[0m\u001b[0mstorage\u001b[0m\u001b[0;34m,\u001b[0m \u001b[0mlocation\u001b[0m\u001b[0;34m)\u001b[0m\u001b[0;34m:\u001b[0m\u001b[0;34m\u001b[0m\u001b[0;34m\u001b[0m\u001b[0m\n\u001b[1;32m    174\u001b[0m     \u001b[0;32mfor\u001b[0m \u001b[0m_\u001b[0m\u001b[0;34m,\u001b[0m \u001b[0m_\u001b[0m\u001b[0;34m,\u001b[0m \u001b[0mfn\u001b[0m \u001b[0;32min\u001b[0m \u001b[0m_package_registry\u001b[0m\u001b[0;34m:\u001b[0m\u001b[0;34m\u001b[0m\u001b[0;34m\u001b[0m\u001b[0m\n\u001b[0;32m--> 175\u001b[0;31m         \u001b[0mresult\u001b[0m \u001b[0;34m=\u001b[0m \u001b[0mfn\u001b[0m\u001b[0;34m(\u001b[0m\u001b[0mstorage\u001b[0m\u001b[0;34m,\u001b[0m \u001b[0mlocation\u001b[0m\u001b[0;34m)\u001b[0m\u001b[0;34m\u001b[0m\u001b[0;34m\u001b[0m\u001b[0m\n\u001b[0m\u001b[1;32m    176\u001b[0m         \u001b[0;32mif\u001b[0m \u001b[0mresult\u001b[0m \u001b[0;32mis\u001b[0m \u001b[0;32mnot\u001b[0m \u001b[0;32mNone\u001b[0m\u001b[0;34m:\u001b[0m\u001b[0;34m\u001b[0m\u001b[0;34m\u001b[0m\u001b[0m\n\u001b[1;32m    177\u001b[0m             \u001b[0;32mreturn\u001b[0m \u001b[0mresult\u001b[0m\u001b[0;34m\u001b[0m\u001b[0;34m\u001b[0m\u001b[0m\n",
      "\u001b[0;32m~/ilenv/lib/python3.7/site-packages/torch/serialization.py\u001b[0m in \u001b[0;36m_cuda_deserialize\u001b[0;34m(obj, location)\u001b[0m\n\u001b[1;32m    155\u001b[0m                 \u001b[0;32mreturn\u001b[0m \u001b[0mstorage_type\u001b[0m\u001b[0;34m(\u001b[0m\u001b[0mobj\u001b[0m\u001b[0;34m.\u001b[0m\u001b[0msize\u001b[0m\u001b[0;34m(\u001b[0m\u001b[0;34m)\u001b[0m\u001b[0;34m)\u001b[0m\u001b[0;34m\u001b[0m\u001b[0;34m\u001b[0m\u001b[0m\n\u001b[1;32m    156\u001b[0m         \u001b[0;32melse\u001b[0m\u001b[0;34m:\u001b[0m\u001b[0;34m\u001b[0m\u001b[0;34m\u001b[0m\u001b[0m\n\u001b[0;32m--> 157\u001b[0;31m             \u001b[0;32mreturn\u001b[0m \u001b[0mobj\u001b[0m\u001b[0;34m.\u001b[0m\u001b[0mcuda\u001b[0m\u001b[0;34m(\u001b[0m\u001b[0mdevice\u001b[0m\u001b[0;34m)\u001b[0m\u001b[0;34m\u001b[0m\u001b[0;34m\u001b[0m\u001b[0m\n\u001b[0m\u001b[1;32m    158\u001b[0m \u001b[0;34m\u001b[0m\u001b[0m\n\u001b[1;32m    159\u001b[0m \u001b[0;34m\u001b[0m\u001b[0m\n",
      "\u001b[0;32m~/ilenv/lib/python3.7/site-packages/torch/_utils.py\u001b[0m in \u001b[0;36m_cuda\u001b[0;34m(self, device, non_blocking, **kwargs)\u001b[0m\n\u001b[1;32m     77\u001b[0m         \u001b[0;32melse\u001b[0m\u001b[0;34m:\u001b[0m\u001b[0;34m\u001b[0m\u001b[0;34m\u001b[0m\u001b[0m\n\u001b[1;32m     78\u001b[0m             \u001b[0mnew_type\u001b[0m \u001b[0;34m=\u001b[0m \u001b[0mgetattr\u001b[0m\u001b[0;34m(\u001b[0m\u001b[0mtorch\u001b[0m\u001b[0;34m.\u001b[0m\u001b[0mcuda\u001b[0m\u001b[0;34m,\u001b[0m \u001b[0mself\u001b[0m\u001b[0;34m.\u001b[0m\u001b[0m__class__\u001b[0m\u001b[0;34m.\u001b[0m\u001b[0m__name__\u001b[0m\u001b[0;34m)\u001b[0m\u001b[0;34m\u001b[0m\u001b[0;34m\u001b[0m\u001b[0m\n\u001b[0;32m---> 79\u001b[0;31m             \u001b[0;32mreturn\u001b[0m \u001b[0mnew_type\u001b[0m\u001b[0;34m(\u001b[0m\u001b[0mself\u001b[0m\u001b[0;34m.\u001b[0m\u001b[0msize\u001b[0m\u001b[0;34m(\u001b[0m\u001b[0;34m)\u001b[0m\u001b[0;34m)\u001b[0m\u001b[0;34m.\u001b[0m\u001b[0mcopy_\u001b[0m\u001b[0;34m(\u001b[0m\u001b[0mself\u001b[0m\u001b[0;34m,\u001b[0m \u001b[0mnon_blocking\u001b[0m\u001b[0;34m)\u001b[0m\u001b[0;34m\u001b[0m\u001b[0;34m\u001b[0m\u001b[0m\n\u001b[0m\u001b[1;32m     80\u001b[0m \u001b[0;34m\u001b[0m\u001b[0m\n\u001b[1;32m     81\u001b[0m \u001b[0;34m\u001b[0m\u001b[0m\n",
      "\u001b[0;31mKeyboardInterrupt\u001b[0m: "
     ]
    }
   ],
   "source": [
    "for cpt in ['brightness', 'defocus_blur', 'fog', 'gaussian_blur', 'glass_blur', 'jpeg_compression', 'pixelate', 'shot_noise', 'spatter', 'zoom_blur', 'contrast', 'elastic_transform', 'frost', 'gaussian_noise', 'impulse_noise', 'motion_blur', 'saturate', 'snow', 'speckle_noise']:\n",
    "    results_orig[cpt] = {'acc': [], 'loss': []}\n",
    "    results_game[cpt] = {'acc': [], 'loss': []}\n",
    "    \n",
    "    trainset = CIFAR10CDataset(root=data_path + 'CIFAR-10-C/processed_data/', corruption=cpt, severity=1, transform=trans)\n",
    "    trainloader = torch.utils.data.DataLoader(trainset, batch_size=128, shuffle=True, num_workers=4)\n",
    "    orig_checkpoint = torch.load('/home/hattie/random_games/exp_cifar_long_lrsh/cifar10_origtest_convnet_trainfirst_iterT99999999_iterR0_iterRsb1_gam0.0_alf1.0_lrT0.1_lrR0.1_momT0.9_momR0_l2T0.0005_l2R0_ep100_seed0_inittypeprev_fromfresh/60.tar')\n",
    "    game_checkpoint = torch.load('/home/hattie/random_games/exp_cifar_long_lrsh/cifar10_origtest_convnet_randfirst_iterT0_iterR99999999_iterRsb1_gam0.005_alf1.0_lrT0.1_lrR0.1_momT0.9_momR0_l2T0.0005_l2R0_dgm0.99per300_ep100_simt_rpb_seed0_inittypereinit_fromfresh/60.tar')\n",
    "\n",
    "    model.load_state_dict(orig_checkpoint['state_dict'])\n",
    "    loss, acc = test(trainloader, model, save=False, bn_eval=False)\n",
    "    print(acc)\n",
    "    results_orig[cpt]['acc'].append(acc)\n",
    "    results_orig[cpt]['loss'].append(loss)\n",
    "    \n",
    "    model.load_state_dict(game_checkpoint['state_dict'])\n",
    "    loss, acc = test(trainloader, model, save=False, bn_eval=False)\n",
    "    print(acc)\n",
    "    results_game[cpt]['acc'].append(acc)\n",
    "    results_game[cpt]['loss'].append(loss)"
   ]
  },
  {
   "cell_type": "code",
   "execution_count": 17,
   "metadata": {},
   "outputs": [
    {
     "data": {
      "text/plain": [
       "{'brightness': {'acc': [86.29], 'loss': [0.4313202079715608]},\n",
       " 'defocus_blur': {'acc': [40.82], 'loss': [2.4987941059885146]},\n",
       " 'fog': {'acc': [50.44], 'loss': [1.8931927975220015]},\n",
       " 'gaussian_blur': {'acc': [24.84], 'loss': [3.7307366691058195]},\n",
       " 'glass_blur': {'acc': [34.86], 'loss': [2.8526173301889926]},\n",
       " 'jpeg_compression': {'acc': [61.28], 'loss': [1.2879614105707482]},\n",
       " 'pixelate': {'acc': [43.69], 'loss': [2.448532951029041]},\n",
       " 'shot_noise': {'acc': [22.88], 'loss': [4.104322723195523]},\n",
       " 'spatter': {'acc': [66.97], 'loss': [1.235687377332132]},\n",
       " 'zoom_blur': {'acc': [49.77], 'loss': [2.0439781388149987]},\n",
       " 'contrast': {'acc': [15.04], 'loss': [4.684663030165661]},\n",
       " 'elastic_transform': {'acc': [60.55], 'loss': [1.3691791778878322]},\n",
       " 'frost': {'acc': [49.23], 'loss': [2.2658650754373286]},\n",
       " 'gaussian_noise': {'acc': [19.72], 'loss': [4.578324936613252]},\n",
       " 'impulse_noise': {'acc': [22.24], 'loss': [3.585437276695348]},\n",
       " 'motion_blur': {'acc': [52.73], 'loss': [1.7292953367474713]},\n",
       " 'saturate': {'acc': [82.08], 'loss': [0.5840733383275285]},\n",
       " 'snow': {'acc': [64.58], 'loss': [1.2705098420758791]},\n",
       " 'speckle_noise': {'acc': [27.53], 'loss': [3.7207494838328303]}}"
      ]
     },
     "execution_count": 17,
     "metadata": {},
     "output_type": "execute_result"
    }
   ],
   "source": [
    "results_orig"
   ]
  },
  {
   "cell_type": "code",
   "execution_count": null,
   "metadata": {},
   "outputs": [],
   "source": [
    "results_game"
   ]
  },
  {
   "cell_type": "code",
   "execution_count": 13,
   "metadata": {},
   "outputs": [
    {
     "data": {
      "text/plain": [
       "{'brightness': {'acc': [79.52], 'loss': [0.6323486830614791]},\n",
       " 'defocus_blur': {'acc': [44.13], 'loss': [1.9776507812210276]},\n",
       " 'fog': {'acc': [36.47], 'loss': [2.3373406054098393]},\n",
       " 'gaussian_blur': {'acc': [33.64], 'loss': [2.439745436740827]},\n",
       " 'glass_blur': {'acc': [27.32], 'loss': [2.784815537778637]},\n",
       " 'jpeg_compression': {'acc': [56.64], 'loss': [1.49065524264227]},\n",
       " 'pixelate': {'acc': [49.79], 'loss': [1.6461901528925835]},\n",
       " 'shot_noise': {'acc': [34.54], 'loss': [2.43709249285203]},\n",
       " 'spatter': {'acc': [65.49], 'loss': [1.1372178604331198]},\n",
       " 'zoom_blur': {'acc': [46.14], 'loss': [1.9215106737764576]},\n",
       " 'contrast': {'acc': [17.26], 'loss': [3.2766419996189167]},\n",
       " 'elastic_transform': {'acc': [42.34], 'loss': [2.1067700386047363]},\n",
       " 'frost': {'acc': [36.64], 'loss': [2.278720914563046]},\n",
       " 'gaussian_noise': {'acc': [31.43], 'loss': [2.6766964363146433]},\n",
       " 'impulse_noise': {'acc': [29.13], 'loss': [2.442348124105719]},\n",
       " 'motion_blur': {'acc': [42.93], 'loss': [1.8947519169578069]},\n",
       " 'saturate': {'acc': [84.09], 'loss': [0.47782945670659027]},\n",
       " 'snow': {'acc': [55.47], 'loss': [1.5067020428331592]},\n",
       " 'speckle_noise': {'acc': [37.05], 'loss': [2.2732034997095036]}}"
      ]
     },
     "execution_count": 13,
     "metadata": {},
     "output_type": "execute_result"
    }
   ],
   "source": [
    "results_orig"
   ]
  },
  {
   "cell_type": "code",
   "execution_count": 14,
   "metadata": {},
   "outputs": [
    {
     "data": {
      "text/plain": [
       "{'brightness': {'acc': [79.26], 'loss': [0.6033549074885212]},\n",
       " 'defocus_blur': {'acc': [57.59], 'loss': [1.232693055008031]},\n",
       " 'fog': {'acc': [45.88], 'loss': [1.725538744202143]},\n",
       " 'gaussian_blur': {'acc': [48.47], 'loss': [1.527073774156691]},\n",
       " 'glass_blur': {'acc': [31.98], 'loss': [2.924145369590083]},\n",
       " 'jpeg_compression': {'acc': [58.02], 'loss': [1.296011676516714]},\n",
       " 'pixelate': {'acc': [41.49], 'loss': [2.330309428746187]},\n",
       " 'shot_noise': {'acc': [29.45], 'loss': [2.999531021601037]},\n",
       " 'spatter': {'acc': [65.75], 'loss': [1.0944994122167178]},\n",
       " 'zoom_blur': {'acc': [54.06], 'loss': [1.3984214716319796]},\n",
       " 'contrast': {'acc': [22.11], 'loss': [2.560234136219266]},\n",
       " 'elastic_transform': {'acc': [47.12], 'loss': [1.8310311987430234]},\n",
       " 'frost': {'acc': [41.09], 'loss': [2.428653087797044]},\n",
       " 'gaussian_noise': {'acc': [24.89], 'loss': [3.3553701956060866]},\n",
       " 'impulse_noise': {'acc': [28.58], 'loss': [2.7128475829015803]},\n",
       " 'motion_blur': {'acc': [49.49], 'loss': [1.6020172894755496]},\n",
       " 'saturate': {'acc': [83.24], 'loss': [0.49106567456752437]},\n",
       " 'snow': {'acc': [56.15], 'loss': [1.4630414896373507]},\n",
       " 'speckle_noise': {'acc': [32.0], 'loss': [2.8050874154778977]}}"
      ]
     },
     "execution_count": 14,
     "metadata": {},
     "output_type": "execute_result"
    }
   ],
   "source": [
    "results_game"
   ]
  },
  {
   "cell_type": "code",
   "execution_count": null,
   "metadata": {},
   "outputs": [],
   "source": []
  },
  {
   "cell_type": "code",
   "execution_count": null,
   "metadata": {},
   "outputs": [],
   "source": []
  },
  {
   "cell_type": "code",
   "execution_count": null,
   "metadata": {},
   "outputs": [],
   "source": []
  },
  {
   "cell_type": "code",
   "execution_count": null,
   "metadata": {},
   "outputs": [],
   "source": []
  },
  {
   "cell_type": "code",
   "execution_count": 31,
   "metadata": {},
   "outputs": [
    {
     "data": {
      "text/plain": [
       "<matplotlib.legend.Legend at 0x2ba36a1e9f90>"
      ]
     },
     "execution_count": 31,
     "metadata": {},
     "output_type": "execute_result"
    },
    {
     "data": {
      "image/png": "[encoded data removed]",
      "text/plain": [
       "<Figure size 432x288 with 1 Axes>"
      ]
     },
     "metadata": {
      "needs_background": "light"
     },
     "output_type": "display_data"
    }
   ],
   "source": [
    "plt.plot(result_dict_game['acc'], label = 'game')\n",
    "plt.plot(result_dict['acc'], label = 'original')\n",
    "plt.legend()"
   ]
  },
  {
   "cell_type": "code",
   "execution_count": null,
   "metadata": {},
   "outputs": [],
   "source": []
  },
  {
   "cell_type": "code",
   "execution_count": 43,
   "metadata": {},
   "outputs": [
    {
     "name": "stdout",
     "output_type": "stream",
     "text": [
      "10.0\n",
      "72.66\n",
      "80.63\n",
      "80.06\n",
      "78.94\n",
      "80.67\n",
      "84.06\n",
      "85.88\n",
      "84.29\n",
      "85.49\n",
      "86.72\n",
      "86.45\n",
      "85.58\n",
      "87.5\n",
      "87.39\n",
      "85.32\n",
      "88.23\n",
      "87.85\n",
      "89.34\n",
      "89.76\n",
      "90.22\n",
      "89.65\n",
      "90.1\n",
      "91.38\n",
      "91.63\n",
      "92.12\n",
      "92.29\n",
      "92.77\n",
      "92.91\n",
      "93.41\n",
      "93.43\n",
      "93.49\n",
      "93.53\n",
      "93.33\n",
      "10.0\n",
      "71.73\n",
      "79.92\n",
      "79.96\n",
      "78.52\n",
      "80.73\n",
      "83.35\n",
      "85.61\n",
      "83.8\n",
      "85.04\n",
      "86.16\n",
      "85.78\n",
      "85.36\n",
      "87.11\n",
      "86.35\n",
      "85.08\n",
      "87.69\n",
      "87.25\n",
      "88.95\n",
      "89.61\n",
      "90.13\n",
      "89.28\n",
      "89.85\n",
      "91.08\n",
      "91.22\n",
      "91.53\n",
      "92.02\n",
      "92.51\n",
      "92.38\n",
      "93.12\n",
      "93.06\n",
      "93.37\n",
      "93.16\n",
      "92.95\n",
      "10.0\n",
      "70.32\n",
      "78.64\n",
      "78.9\n",
      "77.47\n",
      "80.19\n",
      "82.06\n",
      "84.92\n",
      "83.38\n",
      "84.35\n",
      "85.29\n",
      "84.84\n",
      "84.83\n",
      "86.53\n",
      "85.39\n",
      "84.75\n",
      "86.87\n",
      "86.24\n",
      "88.39\n",
      "89.05\n",
      "89.39\n",
      "88.81\n",
      "89.24\n",
      "90.36\n",
      "90.56\n",
      "90.81\n",
      "91.32\n",
      "91.84\n",
      "91.8\n",
      "92.74\n",
      "92.33\n",
      "92.83\n",
      "92.68\n",
      "92.47\n",
      "10.0\n",
      "68.99\n",
      "77.19\n",
      "77.59\n",
      "76.44\n",
      "79.46\n",
      "80.53\n",
      "83.98\n",
      "82.43\n",
      "83.48\n",
      "84.22\n",
      "83.36\n",
      "83.59\n",
      "85.12\n",
      "83.89\n",
      "83.89\n",
      "85.93\n",
      "84.87\n",
      "87.57\n",
      "88.05\n",
      "88.84\n",
      "88.04\n",
      "88.43\n",
      "89.61\n",
      "89.33\n",
      "89.72\n",
      "90.45\n",
      "90.95\n",
      "91.0\n",
      "91.86\n",
      "91.62\n",
      "92.16\n",
      "92.02\n",
      "91.81\n",
      "10.0\n",
      "66.15\n",
      "73.25\n",
      "74.51\n",
      "72.85\n",
      "76.12\n",
      "77.08\n",
      "81.37\n",
      "79.42\n",
      "80.43\n",
      "81.05\n",
      "79.75\n",
      "80.19\n",
      "82.61\n",
      "79.83\n",
      "80.71\n",
      "83.56\n",
      "81.19\n",
      "85.35\n",
      "85.63\n",
      "86.29\n",
      "85.75\n",
      "86.08\n",
      "86.75\n",
      "86.09\n",
      "87.22\n",
      "87.25\n",
      "88.01\n",
      "88.33\n",
      "89.88\n",
      "89.56\n",
      "89.74\n",
      "89.87\n",
      "89.82\n"
     ]
    }
   ],
   "source": [
    "for sev in [1,2,3,4,5]:\n",
    "    result_dict['sev'+str(sev)] = {'acc':[], 'loss':[]}\n",
    "    trainset = CIFAR10CDataset(root=data_path + 'CIFAR-10-C/processed_data/', corruption='brightness', severity=sev, transform=trans)\n",
    "    trainloader = torch.utils.data.DataLoader(trainset, batch_size=128, shuffle=True, num_workers=4)\n",
    "    for epoch in ['init_model','3', '6', '9', '12', '15', '18', '21', '24', '27', '30', '33', '36', '39', '42', '45', '48','51','54','57','60','63','66','69','72','75','78','81','84','87','90','93','96','99']:\n",
    "        checkpoint = torch.load('/home/hattie/random_games/exp_cifar_long_lrsh/cifar10_origtest_convnet_trainfirst_iterT99999999_iterR0_iterRsb1_gam0.0_alf1.0_lrT0.1_lrR0.1_momT0.9_momR0_l2T0.0005_l2R0_ep100_seed0_inittypeprev_fromfresh/' + epoch +'.tar')\n",
    "        model.load_state_dict(checkpoint['state_dict'])\n",
    "        loss, acc = test(trainloader, model, save=False, bn_eval=False)\n",
    "        print(acc)\n",
    "        result_dict['sev'+str(sev)]['acc'].append(acc)\n",
    "        result_dict['sev'+str(sev)]['loss'].append(loss)\n",
    "#     print(model.test_loop(base_loader))\n",
    "#     print(model.test_loop(val_loader))"
   ]
  },
  {
   "cell_type": "code",
   "execution_count": null,
   "metadata": {},
   "outputs": [],
   "source": [
    "result_dict_game = {}"
   ]
  },
  {
   "cell_type": "code",
   "execution_count": null,
   "metadata": {},
   "outputs": [],
   "source": [
    "for sev in [1,2,3,4,5]:\n",
    "    result_dict_game['sev'+str(sev)] = {'acc':[], 'loss':[]}\n",
    "    trainset = CIFAR10CDataset(root=data_path + 'CIFAR-10-C/processed_data/', corruption='brightness', severity=sev, transform=trans)\n",
    "    trainloader = torch.utils.data.DataLoader(trainset, batch_size=128, shuffle=True, num_workers=4)\n",
    "    for epoch in ['init_model','3', '6', '9', '12', '15', '18', '21', '24', '27', '30', '33', '36', '39', '42', '45', '48','51','54','57','60','63','66','69','72','75','78','81','84','87','90','93','96','99']:\n",
    "        checkpoint = torch.load('/home/hattie/random_games/exp_cifar_long_lrsh/cifar10_origtest_convnet_randfirst_iterT0_iterR99999999_iterRsb1_gam0.005_alf1.0_lrT0.1_lrR0.1_momT0.9_momR0_l2T0.0005_l2R0_dgm0.99per300_ep100_simt_rpb_seed0_inittypetrue_fromfresh/' + epoch +'.tar')\n",
    "        model.load_state_dict(checkpoint['state_dict'])\n",
    "        loss, acc = test(trainloader, model, save=False, bn_eval=False)\n",
    "        print(acc)\n",
    "        result_dict_game['sev'+str(sev)]['acc'].append(acc)\n",
    "        result_dict_game['sev'+str(sev)]['loss'].append(loss)\n",
    "#     print(model.test_loop(base_loader))\n",
    "#     print(model.test_loop(val_loader))"
   ]
  },
  {
   "cell_type": "code",
   "execution_count": null,
   "metadata": {},
   "outputs": [],
   "source": []
  },
  {
   "cell_type": "code",
   "execution_count": null,
   "metadata": {},
   "outputs": [],
   "source": [
    "    with h5py.File(os.path.join(workdir, 'perf_metrics.h5'), 'w') as f:\n",
    "        f.attrs['print_every'] = args.print_every\n",
    "        f.attrs['num_epochs'] = args.num_epochs\n",
    "        f.attrs['keys'] = ['train_loss', 'train_acc', 'val_loss', 'val_acc', 'test_loss', 'test_acc']\n",
    "\n",
    "        tl_dset = f.create_dataset('train_loss', np.array(trainloss_all).shape)\n",
    "        tl_dset[:] = np.array(trainloss_all)\n",
    "        ta_dset = f.create_dataset('train_acc', np.array(trainacc_all).shape)\n",
    "        ta_dset[:] = np.array(trainacc_all)\n",
    "        vl_dset = f.create_dataset('val_loss', np.array(validloss_all).shape)\n",
    "        vl_dset[:] = np.array(validloss_all)\n",
    "        va_dset = f.create_dataset('val_acc', np.array(validacc_all).shape)\n",
    "        va_dset[:] = np.array(validacc_all)\n",
    "        el_dset = f.create_dataset('test_loss', np.array(testloss_all).shape)\n",
    "        el_dset[:] = np.array(testloss_all)\n",
    "        ea_dset = f.create_dataset('test_acc', np.array(testacc_all).shape)\n",
    "        ea_dset[:] = np.array(testacc_all)"
   ]
  },
  {
   "cell_type": "code",
   "execution_count": 35,
   "metadata": {},
   "outputs": [
    {
     "data": {
      "text/plain": [
       "(32, 3, 3)"
      ]
     },
     "execution_count": 35,
     "metadata": {},
     "output_type": "execute_result"
    }
   ],
   "source": [
    "testloss, testacc = test(trainloader, model, bn_eval=False)"
   ]
  },
  {
   "cell_type": "code",
   "execution_count": null,
   "metadata": {},
   "outputs": [],
   "source": []
  }
 ],
 "metadata": {
  "kernelspec": {
   "display_name": "Python 3",
   "language": "python",
   "name": "python3"
  },
  "language_info": {
   "codemirror_mode": {
    "name": "ipython",
    "version": 3
   },
   "file_extension": ".py",
   "mimetype": "text/x-python",
   "name": "python",
   "nbconvert_exporter": "python",
   "pygments_lexer": "ipython3",
   "version": "3.7.4"
  }
 },
 "nbformat": 4,
 "nbformat_minor": 4
}
